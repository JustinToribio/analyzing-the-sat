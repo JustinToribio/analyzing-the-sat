{
 "cells": [
  {
   "cell_type": "markdown",
   "metadata": {},
   "source": [
    "# Is the SAT unfair?  Exploring and visualizing the data to find out\n",
    "\n",
    "### Goal of this project\n",
    "\n",
    "\n",
    "### Approach\n",
    "\n",
    "\n",
    "### Summary of results\n",
    "\n"
   ]
  },
  {
   "cell_type": "markdown",
   "metadata": {},
   "source": [
    "# Introduction to the data\n",
    "\n",
    "The csv file `nyc_hs_data_clean.csv` located in the `data/processed` folder of this project was produced by running the `cleaning-nyc-hs-data` project, which can be found [here](https://github.com/JustinToribio/cleaning-nyc-hs-data).  We will read the csv file into a dataframe named `data` and view the first 5 rows.\n",
    "\n",
    "There are 362 rows (1 for each school) and 79 columns in `data`, which contains NYC SAT results by school for the graduating seniors of 2012 in the first few columns.  At the time of this writing, this was the most recent SAT data available.  The remaining columns contain graduation, advanced placement (AP), class size, demographic, school survey and location data for the same school year (or as close to it as possible if the 2012 data was not available)."
   ]
  },
  {
   "cell_type": "code",
   "execution_count": 1,
   "metadata": {
    "scrolled": true
   },
   "outputs": [
    {
     "data": {
      "text/html": [
       "<div>\n",
       "<style scoped>\n",
       "    .dataframe tbody tr th:only-of-type {\n",
       "        vertical-align: middle;\n",
       "    }\n",
       "\n",
       "    .dataframe tbody tr th {\n",
       "        vertical-align: top;\n",
       "    }\n",
       "\n",
       "    .dataframe thead th {\n",
       "        text-align: right;\n",
       "    }\n",
       "</style>\n",
       "<table border=\"1\" class=\"dataframe\">\n",
       "  <thead>\n",
       "    <tr style=\"text-align: right;\">\n",
       "      <th></th>\n",
       "      <th>DBN</th>\n",
       "      <th>SCHOOL NAME</th>\n",
       "      <th>Num of SAT Test Takers</th>\n",
       "      <th>SAT Critical Reading Avg. Score</th>\n",
       "      <th>SAT Math Avg. Score</th>\n",
       "      <th>SAT Writing Avg. Score</th>\n",
       "      <th>sat_score</th>\n",
       "      <th>Total Cohort</th>\n",
       "      <th>Total Grads - n</th>\n",
       "      <th>Total Grads - % of cohort</th>\n",
       "      <th>Total Regents - n</th>\n",
       "      <th>Total Regents - % of cohort</th>\n",
       "      <th>Total Regents - % of grads</th>\n",
       "      <th>Advanced Regents - n</th>\n",
       "      <th>Advanced Regents - % of cohort</th>\n",
       "      <th>Advanced Regents - % of grads</th>\n",
       "      <th>Regents w/o Advanced - n</th>\n",
       "      <th>Regents w/o Advanced - % of cohort</th>\n",
       "      <th>Regents w/o Advanced - % of grads</th>\n",
       "      <th>Local - n</th>\n",
       "      <th>Local - % of cohort</th>\n",
       "      <th>Local - % of grads</th>\n",
       "      <th>Still Enrolled - n</th>\n",
       "      <th>Still Enrolled - % of cohort</th>\n",
       "      <th>Dropped Out - n</th>\n",
       "      <th>Dropped Out - % of cohort</th>\n",
       "      <th>Num of AP Test Takers</th>\n",
       "      <th>Num of AP Total Exams Taken</th>\n",
       "      <th>Num of AP Exams Passed</th>\n",
       "      <th>NUMBER OF STUDENTS / SEATS FILLED</th>\n",
       "      <th>NUMBER OF SECTIONS</th>\n",
       "      <th>AVERAGE CLASS SIZE</th>\n",
       "      <th>SIZE OF SMALLEST CLASS</th>\n",
       "      <th>SIZE OF LARGEST CLASS</th>\n",
       "      <th>frl_percent</th>\n",
       "      <th>total_enrollment</th>\n",
       "      <th>ell_num</th>\n",
       "      <th>ell_percent</th>\n",
       "      <th>sped_num</th>\n",
       "      <th>sped_percent</th>\n",
       "      <th>ctt_num</th>\n",
       "      <th>selfcontained_num</th>\n",
       "      <th>asian_num</th>\n",
       "      <th>asian_per</th>\n",
       "      <th>black_num</th>\n",
       "      <th>black_per</th>\n",
       "      <th>hispanic_num</th>\n",
       "      <th>hispanic_per</th>\n",
       "      <th>white_num</th>\n",
       "      <th>white_per</th>\n",
       "      <th>male_num</th>\n",
       "      <th>male_per</th>\n",
       "      <th>female_num</th>\n",
       "      <th>female_per</th>\n",
       "      <th>rr_s</th>\n",
       "      <th>rr_t</th>\n",
       "      <th>rr_p</th>\n",
       "      <th>N_s</th>\n",
       "      <th>N_t</th>\n",
       "      <th>N_p</th>\n",
       "      <th>saf_s_11</th>\n",
       "      <th>saf_t_11</th>\n",
       "      <th>saf_p_11</th>\n",
       "      <th>saf_tot_11</th>\n",
       "      <th>eng_s_11</th>\n",
       "      <th>eng_t_11</th>\n",
       "      <th>eng_p_11</th>\n",
       "      <th>eng_tot_11</th>\n",
       "      <th>aca_s_11</th>\n",
       "      <th>aca_t_11</th>\n",
       "      <th>aca_p_11</th>\n",
       "      <th>aca_tot_11</th>\n",
       "      <th>com_s_11</th>\n",
       "      <th>com_t_11</th>\n",
       "      <th>com_p_11</th>\n",
       "      <th>com_tot_11</th>\n",
       "      <th>lat</th>\n",
       "      <th>lon</th>\n",
       "      <th>school_dist</th>\n",
       "    </tr>\n",
       "  </thead>\n",
       "  <tbody>\n",
       "    <tr>\n",
       "      <th>0</th>\n",
       "      <td>01M292</td>\n",
       "      <td>HENRY STREET SCHOOL FOR INTERNATIONAL STUDIES</td>\n",
       "      <td>29.0</td>\n",
       "      <td>355.0</td>\n",
       "      <td>404.0</td>\n",
       "      <td>363.0</td>\n",
       "      <td>1122.0</td>\n",
       "      <td>78.0</td>\n",
       "      <td>43.0</td>\n",
       "      <td>55.1</td>\n",
       "      <td>36.0</td>\n",
       "      <td>46.2</td>\n",
       "      <td>83.7</td>\n",
       "      <td>0.0</td>\n",
       "      <td>0.0</td>\n",
       "      <td>0.0</td>\n",
       "      <td>36.0</td>\n",
       "      <td>46.2</td>\n",
       "      <td>83.7</td>\n",
       "      <td>7.0</td>\n",
       "      <td>9.0</td>\n",
       "      <td>16.3</td>\n",
       "      <td>16.0</td>\n",
       "      <td>20.5</td>\n",
       "      <td>11.0</td>\n",
       "      <td>14.1</td>\n",
       "      <td>18.096134</td>\n",
       "      <td>19.175354</td>\n",
       "      <td>13.554735</td>\n",
       "      <td>88.000000</td>\n",
       "      <td>4.000000</td>\n",
       "      <td>22.564286</td>\n",
       "      <td>18.500000</td>\n",
       "      <td>26.571429</td>\n",
       "      <td>88.6</td>\n",
       "      <td>422.0</td>\n",
       "      <td>94.0</td>\n",
       "      <td>22.3</td>\n",
       "      <td>105.0</td>\n",
       "      <td>24.9</td>\n",
       "      <td>34.0</td>\n",
       "      <td>35.0</td>\n",
       "      <td>59.0</td>\n",
       "      <td>14.0</td>\n",
       "      <td>123.0</td>\n",
       "      <td>29.1</td>\n",
       "      <td>227.0</td>\n",
       "      <td>53.8</td>\n",
       "      <td>7.0</td>\n",
       "      <td>1.7</td>\n",
       "      <td>259.0</td>\n",
       "      <td>61.4</td>\n",
       "      <td>163.0</td>\n",
       "      <td>38.6</td>\n",
       "      <td>89.0</td>\n",
       "      <td>70.0</td>\n",
       "      <td>39.0</td>\n",
       "      <td>379.000000</td>\n",
       "      <td>26.0</td>\n",
       "      <td>151.0</td>\n",
       "      <td>6.000000</td>\n",
       "      <td>6.3</td>\n",
       "      <td>7.8</td>\n",
       "      <td>6.7</td>\n",
       "      <td>6.100000</td>\n",
       "      <td>6.1</td>\n",
       "      <td>7.4</td>\n",
       "      <td>6.6</td>\n",
       "      <td>6.700000</td>\n",
       "      <td>6.5</td>\n",
       "      <td>7.6</td>\n",
       "      <td>7.0</td>\n",
       "      <td>5.600000</td>\n",
       "      <td>5.3</td>\n",
       "      <td>7.7</td>\n",
       "      <td>6.2</td>\n",
       "      <td>40.713764</td>\n",
       "      <td>-73.985260</td>\n",
       "      <td>1</td>\n",
       "    </tr>\n",
       "    <tr>\n",
       "      <th>1</th>\n",
       "      <td>01M448</td>\n",
       "      <td>UNIVERSITY NEIGHBORHOOD HIGH SCHOOL</td>\n",
       "      <td>91.0</td>\n",
       "      <td>383.0</td>\n",
       "      <td>423.0</td>\n",
       "      <td>366.0</td>\n",
       "      <td>1172.0</td>\n",
       "      <td>124.0</td>\n",
       "      <td>53.0</td>\n",
       "      <td>42.7</td>\n",
       "      <td>42.0</td>\n",
       "      <td>33.9</td>\n",
       "      <td>79.2</td>\n",
       "      <td>8.0</td>\n",
       "      <td>6.5</td>\n",
       "      <td>15.1</td>\n",
       "      <td>34.0</td>\n",
       "      <td>27.4</td>\n",
       "      <td>64.2</td>\n",
       "      <td>11.0</td>\n",
       "      <td>8.9</td>\n",
       "      <td>20.8</td>\n",
       "      <td>46.0</td>\n",
       "      <td>37.1</td>\n",
       "      <td>20.0</td>\n",
       "      <td>16.1</td>\n",
       "      <td>37.000000</td>\n",
       "      <td>53.000000</td>\n",
       "      <td>21.000000</td>\n",
       "      <td>105.687500</td>\n",
       "      <td>4.750000</td>\n",
       "      <td>22.231250</td>\n",
       "      <td>18.250000</td>\n",
       "      <td>27.062500</td>\n",
       "      <td>71.8</td>\n",
       "      <td>394.0</td>\n",
       "      <td>83.0</td>\n",
       "      <td>21.1</td>\n",
       "      <td>86.0</td>\n",
       "      <td>21.8</td>\n",
       "      <td>55.0</td>\n",
       "      <td>10.0</td>\n",
       "      <td>115.0</td>\n",
       "      <td>29.2</td>\n",
       "      <td>89.0</td>\n",
       "      <td>22.6</td>\n",
       "      <td>181.0</td>\n",
       "      <td>45.9</td>\n",
       "      <td>9.0</td>\n",
       "      <td>2.3</td>\n",
       "      <td>226.0</td>\n",
       "      <td>57.4</td>\n",
       "      <td>168.0</td>\n",
       "      <td>42.6</td>\n",
       "      <td>84.0</td>\n",
       "      <td>95.0</td>\n",
       "      <td>10.0</td>\n",
       "      <td>385.000000</td>\n",
       "      <td>37.0</td>\n",
       "      <td>46.0</td>\n",
       "      <td>6.000000</td>\n",
       "      <td>6.6</td>\n",
       "      <td>7.9</td>\n",
       "      <td>6.8</td>\n",
       "      <td>6.300000</td>\n",
       "      <td>6.6</td>\n",
       "      <td>7.2</td>\n",
       "      <td>6.7</td>\n",
       "      <td>7.000000</td>\n",
       "      <td>7.3</td>\n",
       "      <td>7.3</td>\n",
       "      <td>7.2</td>\n",
       "      <td>5.700000</td>\n",
       "      <td>5.8</td>\n",
       "      <td>7.4</td>\n",
       "      <td>6.3</td>\n",
       "      <td>40.712332</td>\n",
       "      <td>-73.984797</td>\n",
       "      <td>1</td>\n",
       "    </tr>\n",
       "    <tr>\n",
       "      <th>2</th>\n",
       "      <td>01M450</td>\n",
       "      <td>EAST SIDE COMMUNITY SCHOOL</td>\n",
       "      <td>70.0</td>\n",
       "      <td>377.0</td>\n",
       "      <td>402.0</td>\n",
       "      <td>370.0</td>\n",
       "      <td>1149.0</td>\n",
       "      <td>90.0</td>\n",
       "      <td>70.0</td>\n",
       "      <td>77.8</td>\n",
       "      <td>67.0</td>\n",
       "      <td>74.4</td>\n",
       "      <td>95.7</td>\n",
       "      <td>0.0</td>\n",
       "      <td>0.0</td>\n",
       "      <td>0.0</td>\n",
       "      <td>67.0</td>\n",
       "      <td>74.4</td>\n",
       "      <td>95.7</td>\n",
       "      <td>3.0</td>\n",
       "      <td>3.3</td>\n",
       "      <td>4.3</td>\n",
       "      <td>15.0</td>\n",
       "      <td>16.7</td>\n",
       "      <td>5.0</td>\n",
       "      <td>5.6</td>\n",
       "      <td>12.000000</td>\n",
       "      <td>12.000000</td>\n",
       "      <td>20.562084</td>\n",
       "      <td>57.600000</td>\n",
       "      <td>2.733333</td>\n",
       "      <td>21.200000</td>\n",
       "      <td>19.400000</td>\n",
       "      <td>22.866667</td>\n",
       "      <td>71.8</td>\n",
       "      <td>598.0</td>\n",
       "      <td>30.0</td>\n",
       "      <td>5.0</td>\n",
       "      <td>158.0</td>\n",
       "      <td>26.4</td>\n",
       "      <td>91.0</td>\n",
       "      <td>19.0</td>\n",
       "      <td>58.0</td>\n",
       "      <td>9.7</td>\n",
       "      <td>143.0</td>\n",
       "      <td>23.9</td>\n",
       "      <td>331.0</td>\n",
       "      <td>55.4</td>\n",
       "      <td>62.0</td>\n",
       "      <td>10.4</td>\n",
       "      <td>327.0</td>\n",
       "      <td>54.7</td>\n",
       "      <td>271.0</td>\n",
       "      <td>45.3</td>\n",
       "      <td>0.0</td>\n",
       "      <td>98.0</td>\n",
       "      <td>28.0</td>\n",
       "      <td>422.207167</td>\n",
       "      <td>42.0</td>\n",
       "      <td>150.0</td>\n",
       "      <td>6.798879</td>\n",
       "      <td>7.3</td>\n",
       "      <td>8.7</td>\n",
       "      <td>7.9</td>\n",
       "      <td>6.832925</td>\n",
       "      <td>8.0</td>\n",
       "      <td>8.1</td>\n",
       "      <td>7.9</td>\n",
       "      <td>7.594216</td>\n",
       "      <td>8.8</td>\n",
       "      <td>8.4</td>\n",
       "      <td>8.4</td>\n",
       "      <td>6.151668</td>\n",
       "      <td>8.0</td>\n",
       "      <td>8.2</td>\n",
       "      <td>7.9</td>\n",
       "      <td>40.729783</td>\n",
       "      <td>-73.983041</td>\n",
       "      <td>1</td>\n",
       "    </tr>\n",
       "    <tr>\n",
       "      <th>3</th>\n",
       "      <td>01M509</td>\n",
       "      <td>MARTA VALLE HIGH SCHOOL</td>\n",
       "      <td>44.0</td>\n",
       "      <td>390.0</td>\n",
       "      <td>433.0</td>\n",
       "      <td>384.0</td>\n",
       "      <td>1207.0</td>\n",
       "      <td>84.0</td>\n",
       "      <td>47.0</td>\n",
       "      <td>56.0</td>\n",
       "      <td>40.0</td>\n",
       "      <td>47.6</td>\n",
       "      <td>85.1</td>\n",
       "      <td>17.0</td>\n",
       "      <td>20.2</td>\n",
       "      <td>36.2</td>\n",
       "      <td>23.0</td>\n",
       "      <td>27.4</td>\n",
       "      <td>48.9</td>\n",
       "      <td>7.0</td>\n",
       "      <td>8.3</td>\n",
       "      <td>14.9</td>\n",
       "      <td>25.0</td>\n",
       "      <td>29.8</td>\n",
       "      <td>5.0</td>\n",
       "      <td>6.0</td>\n",
       "      <td>14.000000</td>\n",
       "      <td>15.000000</td>\n",
       "      <td>13.779655</td>\n",
       "      <td>69.642857</td>\n",
       "      <td>3.000000</td>\n",
       "      <td>23.571429</td>\n",
       "      <td>20.000000</td>\n",
       "      <td>27.357143</td>\n",
       "      <td>80.7</td>\n",
       "      <td>367.0</td>\n",
       "      <td>41.0</td>\n",
       "      <td>11.2</td>\n",
       "      <td>95.0</td>\n",
       "      <td>25.9</td>\n",
       "      <td>28.0</td>\n",
       "      <td>36.0</td>\n",
       "      <td>34.0</td>\n",
       "      <td>9.3</td>\n",
       "      <td>116.0</td>\n",
       "      <td>31.6</td>\n",
       "      <td>209.0</td>\n",
       "      <td>56.9</td>\n",
       "      <td>6.0</td>\n",
       "      <td>1.6</td>\n",
       "      <td>170.0</td>\n",
       "      <td>46.3</td>\n",
       "      <td>197.0</td>\n",
       "      <td>53.7</td>\n",
       "      <td>90.0</td>\n",
       "      <td>100.0</td>\n",
       "      <td>21.0</td>\n",
       "      <td>306.000000</td>\n",
       "      <td>29.0</td>\n",
       "      <td>69.0</td>\n",
       "      <td>6.400000</td>\n",
       "      <td>6.4</td>\n",
       "      <td>7.7</td>\n",
       "      <td>6.9</td>\n",
       "      <td>6.400000</td>\n",
       "      <td>6.1</td>\n",
       "      <td>7.2</td>\n",
       "      <td>6.6</td>\n",
       "      <td>7.000000</td>\n",
       "      <td>6.8</td>\n",
       "      <td>7.3</td>\n",
       "      <td>7.0</td>\n",
       "      <td>5.900000</td>\n",
       "      <td>5.3</td>\n",
       "      <td>7.4</td>\n",
       "      <td>6.2</td>\n",
       "      <td>40.720569</td>\n",
       "      <td>-73.985673</td>\n",
       "      <td>1</td>\n",
       "    </tr>\n",
       "    <tr>\n",
       "      <th>4</th>\n",
       "      <td>01M539</td>\n",
       "      <td>NEW EXPLORATIONS INTO SCIENCE, TECHNOLOGY AND ...</td>\n",
       "      <td>159.0</td>\n",
       "      <td>522.0</td>\n",
       "      <td>574.0</td>\n",
       "      <td>525.0</td>\n",
       "      <td>1621.0</td>\n",
       "      <td>46.0</td>\n",
       "      <td>46.0</td>\n",
       "      <td>100.0</td>\n",
       "      <td>46.0</td>\n",
       "      <td>100.0</td>\n",
       "      <td>100.0</td>\n",
       "      <td>31.0</td>\n",
       "      <td>67.4</td>\n",
       "      <td>67.4</td>\n",
       "      <td>15.0</td>\n",
       "      <td>32.6</td>\n",
       "      <td>32.6</td>\n",
       "      <td>0.0</td>\n",
       "      <td>0.0</td>\n",
       "      <td>0.0</td>\n",
       "      <td>0.0</td>\n",
       "      <td>0.0</td>\n",
       "      <td>0.0</td>\n",
       "      <td>0.0</td>\n",
       "      <td>306.000000</td>\n",
       "      <td>587.000000</td>\n",
       "      <td>323.000000</td>\n",
       "      <td>156.368421</td>\n",
       "      <td>6.157895</td>\n",
       "      <td>25.510526</td>\n",
       "      <td>19.473684</td>\n",
       "      <td>31.210526</td>\n",
       "      <td>23.0</td>\n",
       "      <td>1613.0</td>\n",
       "      <td>4.0</td>\n",
       "      <td>0.2</td>\n",
       "      <td>43.0</td>\n",
       "      <td>2.7</td>\n",
       "      <td>2.0</td>\n",
       "      <td>0.0</td>\n",
       "      <td>448.0</td>\n",
       "      <td>27.8</td>\n",
       "      <td>189.0</td>\n",
       "      <td>11.7</td>\n",
       "      <td>229.0</td>\n",
       "      <td>14.2</td>\n",
       "      <td>725.0</td>\n",
       "      <td>44.9</td>\n",
       "      <td>794.0</td>\n",
       "      <td>49.2</td>\n",
       "      <td>819.0</td>\n",
       "      <td>50.8</td>\n",
       "      <td>98.0</td>\n",
       "      <td>68.0</td>\n",
       "      <td>51.0</td>\n",
       "      <td>923.000000</td>\n",
       "      <td>67.0</td>\n",
       "      <td>736.0</td>\n",
       "      <td>7.300000</td>\n",
       "      <td>7.6</td>\n",
       "      <td>8.5</td>\n",
       "      <td>7.8</td>\n",
       "      <td>7.000000</td>\n",
       "      <td>5.9</td>\n",
       "      <td>7.9</td>\n",
       "      <td>6.9</td>\n",
       "      <td>7.700000</td>\n",
       "      <td>7.3</td>\n",
       "      <td>8.4</td>\n",
       "      <td>7.8</td>\n",
       "      <td>6.400000</td>\n",
       "      <td>5.6</td>\n",
       "      <td>7.9</td>\n",
       "      <td>6.7</td>\n",
       "      <td>40.718725</td>\n",
       "      <td>-73.979426</td>\n",
       "      <td>1</td>\n",
       "    </tr>\n",
       "  </tbody>\n",
       "</table>\n",
       "</div>"
      ],
      "text/plain": [
       "      DBN                                        SCHOOL NAME  \\\n",
       "0  01M292      HENRY STREET SCHOOL FOR INTERNATIONAL STUDIES   \n",
       "1  01M448                UNIVERSITY NEIGHBORHOOD HIGH SCHOOL   \n",
       "2  01M450                         EAST SIDE COMMUNITY SCHOOL   \n",
       "3  01M509                            MARTA VALLE HIGH SCHOOL   \n",
       "4  01M539  NEW EXPLORATIONS INTO SCIENCE, TECHNOLOGY AND ...   \n",
       "\n",
       "   Num of SAT Test Takers  SAT Critical Reading Avg. Score  \\\n",
       "0                    29.0                            355.0   \n",
       "1                    91.0                            383.0   \n",
       "2                    70.0                            377.0   \n",
       "3                    44.0                            390.0   \n",
       "4                   159.0                            522.0   \n",
       "\n",
       "   SAT Math Avg. Score  SAT Writing Avg. Score  sat_score  Total Cohort  \\\n",
       "0                404.0                   363.0     1122.0          78.0   \n",
       "1                423.0                   366.0     1172.0         124.0   \n",
       "2                402.0                   370.0     1149.0          90.0   \n",
       "3                433.0                   384.0     1207.0          84.0   \n",
       "4                574.0                   525.0     1621.0          46.0   \n",
       "\n",
       "   Total Grads - n  Total Grads - % of cohort  Total Regents - n  \\\n",
       "0             43.0                       55.1               36.0   \n",
       "1             53.0                       42.7               42.0   \n",
       "2             70.0                       77.8               67.0   \n",
       "3             47.0                       56.0               40.0   \n",
       "4             46.0                      100.0               46.0   \n",
       "\n",
       "   Total Regents - % of cohort  Total Regents - % of grads  \\\n",
       "0                         46.2                        83.7   \n",
       "1                         33.9                        79.2   \n",
       "2                         74.4                        95.7   \n",
       "3                         47.6                        85.1   \n",
       "4                        100.0                       100.0   \n",
       "\n",
       "   Advanced Regents - n  Advanced Regents - % of cohort  \\\n",
       "0                   0.0                             0.0   \n",
       "1                   8.0                             6.5   \n",
       "2                   0.0                             0.0   \n",
       "3                  17.0                            20.2   \n",
       "4                  31.0                            67.4   \n",
       "\n",
       "   Advanced Regents - % of grads  Regents w/o Advanced - n  \\\n",
       "0                            0.0                      36.0   \n",
       "1                           15.1                      34.0   \n",
       "2                            0.0                      67.0   \n",
       "3                           36.2                      23.0   \n",
       "4                           67.4                      15.0   \n",
       "\n",
       "   Regents w/o Advanced - % of cohort  Regents w/o Advanced - % of grads  \\\n",
       "0                                46.2                               83.7   \n",
       "1                                27.4                               64.2   \n",
       "2                                74.4                               95.7   \n",
       "3                                27.4                               48.9   \n",
       "4                                32.6                               32.6   \n",
       "\n",
       "   Local - n  Local - % of cohort  Local - % of grads  Still Enrolled - n  \\\n",
       "0        7.0                  9.0                16.3                16.0   \n",
       "1       11.0                  8.9                20.8                46.0   \n",
       "2        3.0                  3.3                 4.3                15.0   \n",
       "3        7.0                  8.3                14.9                25.0   \n",
       "4        0.0                  0.0                 0.0                 0.0   \n",
       "\n",
       "   Still Enrolled - % of cohort  Dropped Out - n  Dropped Out - % of cohort  \\\n",
       "0                          20.5             11.0                       14.1   \n",
       "1                          37.1             20.0                       16.1   \n",
       "2                          16.7              5.0                        5.6   \n",
       "3                          29.8              5.0                        6.0   \n",
       "4                           0.0              0.0                        0.0   \n",
       "\n",
       "   Num of AP Test Takers  Num of AP Total Exams Taken  Num of AP Exams Passed  \\\n",
       "0              18.096134                    19.175354               13.554735   \n",
       "1              37.000000                    53.000000               21.000000   \n",
       "2              12.000000                    12.000000               20.562084   \n",
       "3              14.000000                    15.000000               13.779655   \n",
       "4             306.000000                   587.000000              323.000000   \n",
       "\n",
       "   NUMBER OF STUDENTS / SEATS FILLED  NUMBER OF SECTIONS  AVERAGE CLASS SIZE  \\\n",
       "0                          88.000000            4.000000           22.564286   \n",
       "1                         105.687500            4.750000           22.231250   \n",
       "2                          57.600000            2.733333           21.200000   \n",
       "3                          69.642857            3.000000           23.571429   \n",
       "4                         156.368421            6.157895           25.510526   \n",
       "\n",
       "   SIZE OF SMALLEST CLASS  SIZE OF LARGEST CLASS  frl_percent  \\\n",
       "0               18.500000              26.571429         88.6   \n",
       "1               18.250000              27.062500         71.8   \n",
       "2               19.400000              22.866667         71.8   \n",
       "3               20.000000              27.357143         80.7   \n",
       "4               19.473684              31.210526         23.0   \n",
       "\n",
       "   total_enrollment  ell_num  ell_percent  sped_num  sped_percent  ctt_num  \\\n",
       "0             422.0     94.0         22.3     105.0          24.9     34.0   \n",
       "1             394.0     83.0         21.1      86.0          21.8     55.0   \n",
       "2             598.0     30.0          5.0     158.0          26.4     91.0   \n",
       "3             367.0     41.0         11.2      95.0          25.9     28.0   \n",
       "4            1613.0      4.0          0.2      43.0           2.7      2.0   \n",
       "\n",
       "   selfcontained_num  asian_num  asian_per  black_num  black_per  \\\n",
       "0               35.0       59.0       14.0      123.0       29.1   \n",
       "1               10.0      115.0       29.2       89.0       22.6   \n",
       "2               19.0       58.0        9.7      143.0       23.9   \n",
       "3               36.0       34.0        9.3      116.0       31.6   \n",
       "4                0.0      448.0       27.8      189.0       11.7   \n",
       "\n",
       "   hispanic_num  hispanic_per  white_num  white_per  male_num  male_per  \\\n",
       "0         227.0          53.8        7.0        1.7     259.0      61.4   \n",
       "1         181.0          45.9        9.0        2.3     226.0      57.4   \n",
       "2         331.0          55.4       62.0       10.4     327.0      54.7   \n",
       "3         209.0          56.9        6.0        1.6     170.0      46.3   \n",
       "4         229.0          14.2      725.0       44.9     794.0      49.2   \n",
       "\n",
       "   female_num  female_per  rr_s   rr_t  rr_p         N_s   N_t    N_p  \\\n",
       "0       163.0        38.6  89.0   70.0  39.0  379.000000  26.0  151.0   \n",
       "1       168.0        42.6  84.0   95.0  10.0  385.000000  37.0   46.0   \n",
       "2       271.0        45.3   0.0   98.0  28.0  422.207167  42.0  150.0   \n",
       "3       197.0        53.7  90.0  100.0  21.0  306.000000  29.0   69.0   \n",
       "4       819.0        50.8  98.0   68.0  51.0  923.000000  67.0  736.0   \n",
       "\n",
       "   saf_s_11  saf_t_11  saf_p_11  saf_tot_11  eng_s_11  eng_t_11  eng_p_11  \\\n",
       "0  6.000000       6.3       7.8         6.7  6.100000       6.1       7.4   \n",
       "1  6.000000       6.6       7.9         6.8  6.300000       6.6       7.2   \n",
       "2  6.798879       7.3       8.7         7.9  6.832925       8.0       8.1   \n",
       "3  6.400000       6.4       7.7         6.9  6.400000       6.1       7.2   \n",
       "4  7.300000       7.6       8.5         7.8  7.000000       5.9       7.9   \n",
       "\n",
       "   eng_tot_11  aca_s_11  aca_t_11  aca_p_11  aca_tot_11  com_s_11  com_t_11  \\\n",
       "0         6.6  6.700000       6.5       7.6         7.0  5.600000       5.3   \n",
       "1         6.7  7.000000       7.3       7.3         7.2  5.700000       5.8   \n",
       "2         7.9  7.594216       8.8       8.4         8.4  6.151668       8.0   \n",
       "3         6.6  7.000000       6.8       7.3         7.0  5.900000       5.3   \n",
       "4         6.9  7.700000       7.3       8.4         7.8  6.400000       5.6   \n",
       "\n",
       "   com_p_11  com_tot_11        lat        lon  school_dist  \n",
       "0       7.7         6.2  40.713764 -73.985260            1  \n",
       "1       7.4         6.3  40.712332 -73.984797            1  \n",
       "2       8.2         7.9  40.729783 -73.983041            1  \n",
       "3       7.4         6.2  40.720569 -73.985673            1  \n",
       "4       7.9         6.7  40.718725 -73.979426            1  "
      ]
     },
     "execution_count": 1,
     "metadata": {},
     "output_type": "execute_result"
    }
   ],
   "source": [
    "# Import pandas module and set maximum viewable columns and rows to 500.\n",
    "import pandas as pd\n",
    "pd.options.display.max_columns = 500  \n",
    "pd.options.display.max_rows = 500\n",
    "\n",
    "# Read csv file into a dataframe named \"data\" and view the first 5 rows.\n",
    "data = pd.read_csv(\"../data/processed/nyc_hs_data_clean.csv\")\n",
    "data.head()"
   ]
  },
  {
   "cell_type": "markdown",
   "metadata": {},
   "source": [
    "# Finding correlations with the r value"
   ]
  },
  {
   "cell_type": "code",
   "execution_count": 2,
   "metadata": {
    "scrolled": true
   },
   "outputs": [
    {
     "data": {
      "text/plain": [
       "Num of SAT Test Takers                0.490236\n",
       "SAT Critical Reading Avg. Score       0.986698\n",
       "SAT Math Avg. Score                   0.972543\n",
       "SAT Writing Avg. Score                0.987755\n",
       "sat_score                             1.000000\n",
       "Total Cohort                          0.338325\n",
       "Total Grads - n                       0.450670\n",
       "Total Grads - % of cohort             0.603151\n",
       "Total Regents - n                     0.506568\n",
       "Total Regents - % of cohort           0.704099\n",
       "Total Regents - % of grads            0.537477\n",
       "Advanced Regents - n                  0.598048\n",
       "Advanced Regents - % of cohort        0.795067\n",
       "Advanced Regents - % of grads         0.763957\n",
       "Regents w/o Advanced - n              0.218151\n",
       "Regents w/o Advanced - % of cohort   -0.109673\n",
       "Regents w/o Advanced - % of grads    -0.434221\n",
       "Local - n                            -0.025044\n",
       "Local - % of cohort                  -0.514678\n",
       "Local - % of grads                   -0.537477\n",
       "Still Enrolled - n                    0.017713\n",
       "Still Enrolled - % of cohort         -0.517586\n",
       "Dropped Out - n                      -0.013162\n",
       "Dropped Out - % of cohort            -0.451780\n",
       "Num of AP Test Takers                 0.590119\n",
       "Num of AP Total Exams Taken           0.580490\n",
       "Num of AP Exams Passed                0.576238\n",
       "NUMBER OF STUDENTS / SEATS FILLED     0.407812\n",
       "NUMBER OF SECTIONS                    0.375953\n",
       "AVERAGE CLASS SIZE                    0.401682\n",
       "SIZE OF SMALLEST CLASS                0.258445\n",
       "SIZE OF LARGEST CLASS                 0.339439\n",
       "frl_percent                          -0.734893\n",
       "total_enrollment                      0.380341\n",
       "ell_num                              -0.147602\n",
       "ell_percent                          -0.411938\n",
       "sped_num                              0.046405\n",
       "sped_percent                         -0.457096\n",
       "ctt_num                               0.001251\n",
       "selfcontained_num                     0.026608\n",
       "asian_num                             0.480019\n",
       "asian_per                             0.569673\n",
       "black_num                             0.041747\n",
       "black_per                            -0.281241\n",
       "hispanic_num                          0.035788\n",
       "hispanic_per                         -0.408680\n",
       "white_num                             0.457731\n",
       "white_per                             0.636848\n",
       "male_num                              0.338122\n",
       "male_per                             -0.111941\n",
       "female_num                            0.400325\n",
       "female_per                            0.111986\n",
       "rr_s                                  0.235284\n",
       "rr_t                                 -0.029333\n",
       "rr_p                                  0.048322\n",
       "N_s                                   0.435900\n",
       "N_t                                   0.306662\n",
       "N_p                                   0.435337\n",
       "saf_s_11                              0.331756\n",
       "saf_t_11                              0.310178\n",
       "saf_p_11                              0.112215\n",
       "saf_tot_11                            0.310110\n",
       "eng_s_11                              0.205624\n",
       "eng_t_11                              0.029951\n",
       "eng_p_11                              0.019733\n",
       "eng_tot_11                            0.091970\n",
       "aca_s_11                              0.331092\n",
       "aca_t_11                              0.125624\n",
       "aca_p_11                              0.029175\n",
       "aca_tot_11                            0.182063\n",
       "com_s_11                              0.175100\n",
       "com_t_11                              0.078397\n",
       "com_p_11                             -0.124921\n",
       "com_tot_11                            0.066566\n",
       "lat                                  -0.129824\n",
       "lon                                  -0.124435\n",
       "school_dist                           0.068448\n",
       "Name: sat_score, dtype: float64"
      ]
     },
     "execution_count": 2,
     "metadata": {},
     "output_type": "execute_result"
    }
   ],
   "source": [
    "correlations = data.corr()\n",
    "correlations = correlations[\"sat_score\"]\n",
    "correlations"
   ]
  },
  {
   "cell_type": "markdown",
   "metadata": {},
   "source": [
    "# Plotting enrollment with the `plot()` accessor"
   ]
  },
  {
   "cell_type": "code",
   "execution_count": 3,
   "metadata": {
    "scrolled": false
   },
   "outputs": [
    {
     "data": {
      "text/plain": [
       "0.380341094689713"
      ]
     },
     "execution_count": 3,
     "metadata": {},
     "output_type": "execute_result"
    },
    {
     "data": {
      "image/png": "[encoded data removed]",
      "text/plain": [
       "<Figure size 432x288 with 1 Axes>"
      ]
     },
     "metadata": {
      "needs_background": "light"
     },
     "output_type": "display_data"
    }
   ],
   "source": [
    "import matplotlib.pyplot as plt\n",
    "%matplotlib inline\n",
    "\n",
    "data.plot(x=\"total_enrollment\", y=\"sat_score\", kind=\"scatter\")\n",
    "correlations[\"total_enrollment\"]"
   ]
  },
  {
   "cell_type": "markdown",
   "metadata": {},
   "source": [
    "# Exploring schools with low SAT scores and enrollment"
   ]
  },
  {
   "cell_type": "code",
   "execution_count": 4,
   "metadata": {
    "scrolled": true
   },
   "outputs": [
    {
     "name": "stdout",
     "output_type": "stream",
     "text": [
      "(12, 79)\n"
     ]
    },
    {
     "data": {
      "text/html": [
       "<div>\n",
       "<style scoped>\n",
       "    .dataframe tbody tr th:only-of-type {\n",
       "        vertical-align: middle;\n",
       "    }\n",
       "\n",
       "    .dataframe tbody tr th {\n",
       "        vertical-align: top;\n",
       "    }\n",
       "\n",
       "    .dataframe thead th {\n",
       "        text-align: right;\n",
       "    }\n",
       "</style>\n",
       "<table border=\"1\" class=\"dataframe\">\n",
       "  <thead>\n",
       "    <tr style=\"text-align: right;\">\n",
       "      <th></th>\n",
       "      <th>SCHOOL NAME</th>\n",
       "      <th>total_enrollment</th>\n",
       "      <th>sat_score</th>\n",
       "    </tr>\n",
       "  </thead>\n",
       "  <tbody>\n",
       "    <tr>\n",
       "      <th>90</th>\n",
       "      <td>INTERNATIONAL COMMUNITY HIGH SCHOOL</td>\n",
       "      <td>393.0</td>\n",
       "      <td>945.0</td>\n",
       "    </tr>\n",
       "    <tr>\n",
       "      <th>124</th>\n",
       "      <td>ACADEMY FOR LANGUAGE AND TECHNOLOGY</td>\n",
       "      <td>336.0</td>\n",
       "      <td>951.0</td>\n",
       "    </tr>\n",
       "    <tr>\n",
       "      <th>125</th>\n",
       "      <td>BRONX INTERNATIONAL HIGH SCHOOL</td>\n",
       "      <td>403.0</td>\n",
       "      <td>965.0</td>\n",
       "    </tr>\n",
       "    <tr>\n",
       "      <th>138</th>\n",
       "      <td>KINGSBRIDGE INTERNATIONAL HIGH SCHOOL</td>\n",
       "      <td>497.0</td>\n",
       "      <td>962.0</td>\n",
       "    </tr>\n",
       "    <tr>\n",
       "      <th>140</th>\n",
       "      <td>INTERNATIONAL SCHOOL FOR LIBERAL ARTS</td>\n",
       "      <td>606.0</td>\n",
       "      <td>934.0</td>\n",
       "    </tr>\n",
       "    <tr>\n",
       "      <th>175</th>\n",
       "      <td>PAN AMERICAN INTERNATIONAL HIGH SCHOOL AT MONROE</td>\n",
       "      <td>406.0</td>\n",
       "      <td>970.0</td>\n",
       "    </tr>\n",
       "    <tr>\n",
       "      <th>178</th>\n",
       "      <td>HIGH SCHOOL OF WORLD CULTURES</td>\n",
       "      <td>369.0</td>\n",
       "      <td>939.0</td>\n",
       "    </tr>\n",
       "    <tr>\n",
       "      <th>187</th>\n",
       "      <td>BROOKLYN INTERNATIONAL HIGH SCHOOL</td>\n",
       "      <td>367.0</td>\n",
       "      <td>981.0</td>\n",
       "    </tr>\n",
       "    <tr>\n",
       "      <th>224</th>\n",
       "      <td>INTERNATIONAL HIGH SCHOOL AT PROSPECT HEIGHTS</td>\n",
       "      <td>401.0</td>\n",
       "      <td>913.0</td>\n",
       "    </tr>\n",
       "    <tr>\n",
       "      <th>236</th>\n",
       "      <td>IT TAKES A VILLAGE ACADEMY</td>\n",
       "      <td>382.0</td>\n",
       "      <td>963.0</td>\n",
       "    </tr>\n",
       "    <tr>\n",
       "      <th>252</th>\n",
       "      <td>MULTICULTURAL HIGH SCHOOL</td>\n",
       "      <td>406.0</td>\n",
       "      <td>887.0</td>\n",
       "    </tr>\n",
       "    <tr>\n",
       "      <th>285</th>\n",
       "      <td>PAN AMERICAN INTERNATIONAL HIGH SCHOOL</td>\n",
       "      <td>366.0</td>\n",
       "      <td>951.0</td>\n",
       "    </tr>\n",
       "  </tbody>\n",
       "</table>\n",
       "</div>"
      ],
      "text/plain": [
       "                                          SCHOOL NAME  total_enrollment  \\\n",
       "90                INTERNATIONAL COMMUNITY HIGH SCHOOL             393.0   \n",
       "124               ACADEMY FOR LANGUAGE AND TECHNOLOGY             336.0   \n",
       "125                   BRONX INTERNATIONAL HIGH SCHOOL             403.0   \n",
       "138             KINGSBRIDGE INTERNATIONAL HIGH SCHOOL             497.0   \n",
       "140             INTERNATIONAL SCHOOL FOR LIBERAL ARTS             606.0   \n",
       "175  PAN AMERICAN INTERNATIONAL HIGH SCHOOL AT MONROE             406.0   \n",
       "178                     HIGH SCHOOL OF WORLD CULTURES             369.0   \n",
       "187                BROOKLYN INTERNATIONAL HIGH SCHOOL             367.0   \n",
       "224     INTERNATIONAL HIGH SCHOOL AT PROSPECT HEIGHTS             401.0   \n",
       "236                        IT TAKES A VILLAGE ACADEMY             382.0   \n",
       "252                         MULTICULTURAL HIGH SCHOOL             406.0   \n",
       "285            PAN AMERICAN INTERNATIONAL HIGH SCHOOL             366.0   \n",
       "\n",
       "     sat_score  \n",
       "90       945.0  \n",
       "124      951.0  \n",
       "125      965.0  \n",
       "138      962.0  \n",
       "140      934.0  \n",
       "175      970.0  \n",
       "178      939.0  \n",
       "187      981.0  \n",
       "224      913.0  \n",
       "236      963.0  \n",
       "252      887.0  \n",
       "285      951.0  "
      ]
     },
     "execution_count": 4,
     "metadata": {},
     "output_type": "execute_result"
    }
   ],
   "source": [
    "low_enrollment = data[data[\"total_enrollment\"] < 1000]\n",
    "low_enrollment = data[data[\"sat_score\"] < 1000]\n",
    "print(low_enrollment.shape)\n",
    "low_enrollment[[\"SCHOOL NAME\", \"total_enrollment\", \"sat_score\"]]"
   ]
  },
  {
   "cell_type": "markdown",
   "metadata": {},
   "source": [
    "# Plotting language learning percentage"
   ]
  },
  {
   "cell_type": "code",
   "execution_count": 5,
   "metadata": {},
   "outputs": [
    {
     "data": {
      "text/plain": [
       "-0.411938300806798"
      ]
     },
     "execution_count": 5,
     "metadata": {},
     "output_type": "execute_result"
    },
    {
     "data": {
      "image/png": "[encoded data removed]",
      "text/plain": [
       "<Figure size 432x288 with 1 Axes>"
      ]
     },
     "metadata": {
      "needs_background": "light"
     },
     "output_type": "display_data"
    }
   ],
   "source": [
    "data.plot(x=\"ell_percent\", y=\"sat_score\", kind=\"scatter\")\n",
    "correlations[\"ell_percent\"]"
   ]
  },
  {
   "cell_type": "markdown",
   "metadata": {},
   "source": [
    "# Mapping the schools with basemap"
   ]
  },
  {
   "cell_type": "code",
   "execution_count": 7,
   "metadata": {
    "scrolled": false
   },
   "outputs": [
    {
     "ename": "ModuleNotFoundError",
     "evalue": "No module named 'mpl_toolkits.basemap'",
     "output_type": "error",
     "traceback": [
      "\u001b[1;31m---------------------------------------------------------------------------\u001b[0m",
      "\u001b[1;31mModuleNotFoundError\u001b[0m                       Traceback (most recent call last)",
      "\u001b[1;32m<ipython-input-7-92fe3df1e5cd>\u001b[0m in \u001b[0;36m<module>\u001b[1;34m()\u001b[0m\n\u001b[1;32m----> 1\u001b[1;33m \u001b[1;32mimport\u001b[0m \u001b[0mmpl_toolkits\u001b[0m\u001b[1;33m.\u001b[0m\u001b[0mbasemap\u001b[0m\u001b[1;33m\u001b[0m\u001b[0m\n\u001b[0m\u001b[0;32m      2\u001b[0m \u001b[0mmpl_toolkits\u001b[0m\u001b[1;33m.\u001b[0m\u001b[0mbasemap\u001b[0m\u001b[1;33m\u001b[0m\u001b[0m\n",
      "\u001b[1;31mModuleNotFoundError\u001b[0m: No module named 'mpl_toolkits.basemap'"
     ]
    }
   ],
   "source": [
    "import mpl_toolkits.basemap\n",
    "mpl_toolkits.basemap"
   ]
  },
  {
   "cell_type": "code",
   "execution_count": 8,
   "metadata": {
    "scrolled": true
   },
   "outputs": [
    {
     "ename": "ModuleNotFoundError",
     "evalue": "No module named 'mpl_toolkits.basemap'",
     "output_type": "error",
     "traceback": [
      "\u001b[1;31m---------------------------------------------------------------------------\u001b[0m",
      "\u001b[1;31mModuleNotFoundError\u001b[0m                       Traceback (most recent call last)",
      "\u001b[1;32m<ipython-input-8-74f0ae26704c>\u001b[0m in \u001b[0;36m<module>\u001b[1;34m()\u001b[0m\n\u001b[1;32m----> 1\u001b[1;33m \u001b[1;32mfrom\u001b[0m \u001b[0mmpl_toolkits\u001b[0m\u001b[1;33m.\u001b[0m\u001b[0mbasemap\u001b[0m \u001b[1;32mimport\u001b[0m \u001b[0mBasemap\u001b[0m\u001b[1;33m\u001b[0m\u001b[0m\n\u001b[0m\u001b[0;32m      2\u001b[0m \u001b[0mBasemap\u001b[0m\u001b[1;33m\u001b[0m\u001b[0m\n",
      "\u001b[1;31mModuleNotFoundError\u001b[0m: No module named 'mpl_toolkits.basemap'"
     ]
    }
   ],
   "source": [
    "from mpl_toolkits.basemap import Basemap\n",
    "Basemap"
   ]
  },
  {
   "cell_type": "code",
   "execution_count": null,
   "metadata": {},
   "outputs": [],
   "source": [
    "m = Basemap(\n",
    "    projection='merc', \n",
    "    llcrnrlat=40.496044, \n",
    "    urcrnrlat=40.915256, \n",
    "    llcrnrlon=-74.255735, \n",
    "    urcrnrlon=-73.700272,\n",
    "    resolution='l'\n",
    ")\n",
    "\n",
    "m.drawmapboundary(fill_color='#85A6D9')\n",
    "m.drawcoastlines(color='#6D5F47', linewidth=.4)\n",
    "m.drawrivers(color='#6D5F47', linewidth=.4)"
   ]
  },
  {
   "cell_type": "markdown",
   "metadata": {},
   "source": [
    "# 9. Mapping the Schools With Basemap"
   ]
  },
  {
   "cell_type": "code",
   "execution_count": null,
   "metadata": {},
   "outputs": [],
   "source": [
    "m = Basemap(\n",
    "    projection='merc', \n",
    "    llcrnrlat=40.496044, \n",
    "    urcrnrlat=40.915256, \n",
    "    llcrnrlon=-74.255735, \n",
    "    urcrnrlon=-73.700272,\n",
    "    resolution='l'\n",
    ")\n",
    "\n",
    "m.drawmapboundary(fill_color='#85A6D9')\n",
    "m.drawcoastlines(color='#6D5F47', linewidth=.4)\n",
    "m.drawrivers(color='#6D5F47', linewidth=.4)\n",
    "\n",
    "longitudes = combined['lon'].tolist()\n",
    "latitudes = combined['lat'].tolist()\n",
    "\n",
    "m.scatter(longitudes, latitudes, s=20, zorder=2, latlon=True)"
   ]
  },
  {
   "cell_type": "markdown",
   "metadata": {
    "collapsed": true
   },
   "source": [
    "# 10. Plotting Out Statistics"
   ]
  },
  {
   "cell_type": "code",
   "execution_count": null,
   "metadata": {},
   "outputs": [],
   "source": [
    "m = Basemap(\n",
    "    projection='merc', \n",
    "    llcrnrlat=40.496044, \n",
    "    urcrnrlat=40.915256, \n",
    "    llcrnrlon=-74.255735, \n",
    "    urcrnrlon=-73.700272,\n",
    "    resolution='l'\n",
    ")\n",
    "\n",
    "m.drawmapboundary(fill_color='#85A6D9')\n",
    "m.drawcoastlines(color='#6D5F47', linewidth=.4)\n",
    "m.drawrivers(color='#6D5F47', linewidth=.4)\n",
    "\n",
    "longitudes = combined['lon'].tolist()\n",
    "latitudes = combined['lat'].tolist()\n",
    "\n",
    "m.scatter(longitudes, latitudes, s=20, zorder=2, latlon=True, c=combined['ell_percent'], cmap='summer')"
   ]
  },
  {
   "cell_type": "markdown",
   "metadata": {},
   "source": [
    "# 11. Calculating District Level Statistics"
   ]
  },
  {
   "cell_type": "code",
   "execution_count": null,
   "metadata": {
    "scrolled": true
   },
   "outputs": [],
   "source": [
    "districts = combined.groupby('school_dist').agg(np.mean)\n",
    "districts"
   ]
  },
  {
   "cell_type": "code",
   "execution_count": null,
   "metadata": {
    "scrolled": true
   },
   "outputs": [],
   "source": [
    "districts.reset_index(inplace=True)\n",
    "districts.head()"
   ]
  },
  {
   "cell_type": "markdown",
   "metadata": {},
   "source": [
    "# 12. Plotting Percent Of English Learners by District"
   ]
  },
  {
   "cell_type": "code",
   "execution_count": null,
   "metadata": {},
   "outputs": [],
   "source": [
    "m = Basemap(\n",
    "    projection='merc', \n",
    "    llcrnrlat=40.496044, \n",
    "    urcrnrlat=40.915256, \n",
    "    llcrnrlon=-74.255735, \n",
    "    urcrnrlon=-73.700272,\n",
    "    resolution='l'\n",
    ")\n",
    "\n",
    "m.drawmapboundary(fill_color='#85A6D9')\n",
    "m.drawcoastlines(color='#6D5F47', linewidth=.4)\n",
    "m.drawrivers(color='#6D5F47', linewidth=.4)\n",
    "\n",
    "longitudes = districts['lon'].tolist()\n",
    "latitudes = districts['lat'].tolist()\n",
    "\n",
    "m.scatter(longitudes, latitudes, s=50, zorder=2, latlon=True, c=districts['ell_percent'], cmap='summer')"
   ]
  },
  {
   "cell_type": "markdown",
   "metadata": {},
   "source": [
    "# Guided Project: Analyzing NYC High School Data"
   ]
  },
  {
   "cell_type": "markdown",
   "metadata": {},
   "source": [
    "# 1. Introduction"
   ]
  },
  {
   "cell_type": "code",
   "execution_count": null,
   "metadata": {},
   "outputs": [],
   "source": [
    "survey_fields_with_SAT = [\n",
    "    \"DBN\",\n",
    "    'sat_score',\n",
    "    \"rr_s\", \n",
    "    \"rr_t\", \n",
    "    \"rr_p\", \n",
    "    \"N_s\", \n",
    "    \"N_t\", \n",
    "    \"N_p\", \n",
    "    \"saf_p_11\", \n",
    "    \"com_p_11\", \n",
    "    \"eng_p_11\", \n",
    "    \"aca_p_11\", \n",
    "    \"saf_t_11\", \n",
    "    \"com_t_11\", \n",
    "    \"eng_t_11\", \n",
    "    \"aca_t_11\", \n",
    "    \"saf_s_11\", \n",
    "    \"com_s_11\", \n",
    "    \"eng_s_11\", \n",
    "    \"aca_s_11\", \n",
    "    \"saf_tot_11\", \n",
    "    \"com_tot_11\", \n",
    "    \"eng_tot_11\", \n",
    "    \"aca_tot_11\",\n",
    "    ]"
   ]
  },
  {
   "cell_type": "code",
   "execution_count": null,
   "metadata": {
    "scrolled": true
   },
   "outputs": [],
   "source": [
    "combined.loc[:,survey_fields_with_SAT]"
   ]
  },
  {
   "cell_type": "code",
   "execution_count": null,
   "metadata": {},
   "outputs": [],
   "source": [
    "corr_survey_sat = combined.loc[:,survey_fields_with_SAT].corr()\n",
    "corr_survey_sat = corr_survey_sat['sat_score'][1:]\n",
    "corr_survey_sat"
   ]
  },
  {
   "cell_type": "code",
   "execution_count": null,
   "metadata": {},
   "outputs": [],
   "source": [
    "corr_survey_sat.plot.barh()"
   ]
  },
  {
   "cell_type": "markdown",
   "metadata": {},
   "source": [
    "### Findings\n",
    "\n",
    "Mine: Academic expectations and safety and respect scores have strong r-values with SAT scores. Makes sense, hard to learn in an unsafe environment, and I'd expect high achieveing students with high expectations of a school to perform well academically at that school.\n",
    "\n",
    "Solution: There are high correlations between N_s, N_t, N_p and sat_score. Since these columns are correlated with total_enrollment, it makes sense that they would be high.\n",
    "\n",
    "It is more interesting that rr_s, the student response rate, or the percentage of students that completed the survey, correlates with sat_score. This might make sense because students who are more likely to fill out surveys may be more likely to also be doing well academically.\n",
    "\n",
    "How students and teachers percieved safety (saf_t_11 and saf_s_11) correlate with sat_score. This make sense, as it's hard to teach or learn in an unsafe environment.\n",
    "\n",
    "The last interesting correlation is the aca_s_11, which indicates how the student perceives academic standards, correlates with sat_score, but this is not true for aca_t_11, how teachers perceive academic standards, or aca_p_11, how parents perceive academic standards."
   ]
  },
  {
   "cell_type": "markdown",
   "metadata": {},
   "source": [
    "# 2. Exploring Safety and SAT Scores"
   ]
  },
  {
   "cell_type": "code",
   "execution_count": null,
   "metadata": {},
   "outputs": [],
   "source": [
    "combined.plot.scatter(x='saf_s_11', y='sat_score')"
   ]
  },
  {
   "cell_type": "markdown",
   "metadata": {},
   "source": [
    "### Findings\n",
    "\n",
    "Mine: Doesn't appear to be a strong linear correlations, weak at best.\n",
    "\n",
    "Solution: There appears to be a correlation between SAT scores and safety, although it isn't that strong. It looks like there are a few schools with extremely high SAT scores and high safety scores. There are a few schools with low safety scores and low SAT scores. No school with a safety score lower than 6.5 has an average SAT score higher than 1500 or so."
   ]
  },
  {
   "cell_type": "code",
   "execution_count": null,
   "metadata": {
    "scrolled": true
   },
   "outputs": [],
   "source": [
    "combined.head()"
   ]
  },
  {
   "cell_type": "code",
   "execution_count": null,
   "metadata": {
    "scrolled": true
   },
   "outputs": [],
   "source": [
    "school_dist = combined.groupby('school_dist').agg(np.mean)\n",
    "school_dist.reset_index(inplace=True)\n",
    "school_dist"
   ]
  },
  {
   "cell_type": "code",
   "execution_count": null,
   "metadata": {},
   "outputs": [],
   "source": [
    "m = Basemap(\n",
    "    projection='merc', \n",
    "    llcrnrlat=40.496044, \n",
    "    urcrnrlat=40.915256, \n",
    "    llcrnrlon=-74.255735, \n",
    "    urcrnrlon=-73.700272,\n",
    "    resolution='l'\n",
    ")\n",
    "\n",
    "m.drawmapboundary(fill_color='#85A6D9')\n",
    "m.drawcoastlines(color='#6D5F47', linewidth=.4)\n",
    "m.drawrivers(color='#6D5F47', linewidth=.4)\n",
    "\n",
    "longitudes = school_dist['lon'].tolist()\n",
    "latitudes = school_dist['lat'].tolist()\n",
    "\n",
    "m.scatter(longitudes, latitudes, s=50, zorder=2, latlon=True, c=school_dist['saf_s_11'], cmap='summer')"
   ]
  },
  {
   "cell_type": "markdown",
   "metadata": {},
   "source": [
    "### Findings\n",
    "\n",
    "Mine: Safest schools are in Manhattan as expected. With exception of a few, unsafest schools are in Brokklyn, Queens and the Bronx\n",
    "\n",
    "Solution: It looks like Upper Manhattan and parts of Queens and the Bronx tend to have lower safety scores, whereas Brooklyn has high safety scores."
   ]
  },
  {
   "cell_type": "markdown",
   "metadata": {},
   "source": [
    "# 3. Exploring Race and SAT Scores"
   ]
  },
  {
   "cell_type": "code",
   "execution_count": null,
   "metadata": {},
   "outputs": [],
   "source": [
    "race_cols = ['sat_score', 'white_per', 'asian_per', 'black_per', 'hispanic_per']"
   ]
  },
  {
   "cell_type": "code",
   "execution_count": null,
   "metadata": {
    "scrolled": true
   },
   "outputs": [],
   "source": [
    "race_sat = combined[race_cols].corr()['sat_score'][1:]\n",
    "race_sat"
   ]
  },
  {
   "cell_type": "code",
   "execution_count": null,
   "metadata": {},
   "outputs": [],
   "source": [
    "race_sat.plot.barh()"
   ]
  },
  {
   "cell_type": "markdown",
   "metadata": {},
   "source": [
    "### Findings\n",
    "\n",
    "Mine: Asian and White are strongly positively correlated. Hispanic and Black are strongly negatively correlated.  Possibly suggests racial bias in test, or indicative of lack of funding for schools in areas with high % of hispanic and black students.\n",
    "\n",
    "Solution: It looks like a higher percentage of white or asian students at a school correlates positively with sat score, whereas a higher percentage of black or hispanic students correlates negatively with sat score. This may be due to a lack of funding for schools in certain areas, which are more likely to have a higher percentage of black or hispanic students."
   ]
  },
  {
   "cell_type": "code",
   "execution_count": null,
   "metadata": {},
   "outputs": [],
   "source": [
    "combined.plot.scatter('hispanic_per', 'sat_score')"
   ]
  },
  {
   "cell_type": "markdown",
   "metadata": {},
   "source": [
    "### Findings\n",
    "\n",
    "Mine: appears to be negative correlation, although not that strong. Schools with greater than approx 25% hispanic don't have an SAT score above around 1500"
   ]
  },
  {
   "cell_type": "code",
   "execution_count": null,
   "metadata": {
    "scrolled": true
   },
   "outputs": [],
   "source": [
    "combined.head()"
   ]
  },
  {
   "cell_type": "code",
   "execution_count": null,
   "metadata": {},
   "outputs": [],
   "source": [
    "combined[combined['hispanic_per'] > 95]['SCHOOL NAME']"
   ]
  },
  {
   "cell_type": "markdown",
   "metadata": {},
   "source": [
    "### Findings\n",
    "\n",
    "Solution: The schools listed above appear to primarily be geared towards recent immigrants to the US. These schools have a lot of students who are learning English, which would explain the lower SAT scores."
   ]
  },
  {
   "cell_type": "code",
   "execution_count": null,
   "metadata": {
    "scrolled": true
   },
   "outputs": [],
   "source": [
    "hisp_10_1800 = combined[combined['hispanic_per'] < 10]\n",
    "hisp_10_1800[hisp_10_1800['sat_score'] > 1800]['SCHOOL NAME']"
   ]
  },
  {
   "cell_type": "markdown",
   "metadata": {},
   "source": [
    "### Findings\n",
    "\n",
    "Mine: all appear to be science and technical schools, suggesting higher acceptance requirements, and hence higher achieving students\n",
    "\n",
    "Solution: Many of the schools above appear to be specialized science and technology schools that receive extra funding, and only admit students who pass an entrance exam. This doesn't explain the low hispanic_per, but it does explain why their students tend to do better on the SAT -- they are students from all over New York City who did well on a standardized test."
   ]
  },
  {
   "cell_type": "markdown",
   "metadata": {},
   "source": [
    "# 4. Exploring Gender and SAT Scores"
   ]
  },
  {
   "cell_type": "code",
   "execution_count": null,
   "metadata": {},
   "outputs": [],
   "source": [
    "sex_cols = ['sat_score', 'male_per', 'female_per']"
   ]
  },
  {
   "cell_type": "code",
   "execution_count": null,
   "metadata": {},
   "outputs": [],
   "source": [
    "sex_sat = combined[sex_cols].corr()['sat_score'][1:]\n",
    "sex_sat"
   ]
  },
  {
   "cell_type": "code",
   "execution_count": null,
   "metadata": {},
   "outputs": [],
   "source": [
    "sex_sat.plot.bar()"
   ]
  },
  {
   "cell_type": "markdown",
   "metadata": {},
   "source": [
    "### Findings\n",
    "\n",
    "Mine: females positive corr, males negative corr, but neither are strong.\n",
    "\n",
    "Solution: In the plot above, we can see that a high percentage of females at a school positively correlates with SAT score, whereas a high percentage of males at a school negatively correlates with SAT score. Neither correlation is extremely strong."
   ]
  },
  {
   "cell_type": "code",
   "execution_count": null,
   "metadata": {},
   "outputs": [],
   "source": [
    "combined.plot.scatter('female_per', 'sat_score')"
   ]
  },
  {
   "cell_type": "markdown",
   "metadata": {},
   "source": [
    "### Findings\n",
    "\n",
    "Mine: don't see any strong linear corr.  There's high and low sat scores with high and low female_per\n",
    "\n",
    "Solution: Based on the scatterplot, there doesn't seem to be any real correlation between sat_score and female_per. However, there is a cluster of schools with a high percentage of females (60 to 80), and high SAT scores."
   ]
  },
  {
   "cell_type": "code",
   "execution_count": null,
   "metadata": {},
   "outputs": [],
   "source": [
    "fem_60_1700 = combined[combined['female_per'] > 60]\n",
    "fem_60_1700[fem_60['sat_score'] > 1700]['SCHOOL NAME']"
   ]
  },
  {
   "cell_type": "markdown",
   "metadata": {},
   "source": [
    "### Findings\n",
    "\n",
    "Solution: These schools appears to be very selective liberal arts schools that have high academic standards"
   ]
  },
  {
   "cell_type": "markdown",
   "metadata": {},
   "source": [
    "# 5. Exploring AP Scores vs. SAT Scores"
   ]
  },
  {
   "cell_type": "code",
   "execution_count": null,
   "metadata": {
    "scrolled": true
   },
   "outputs": [],
   "source": [
    "combined['ap_per'] = combined['AP Test Takers '] / combined['total_enrollment']\n",
    "combined['ap_per']"
   ]
  },
  {
   "cell_type": "code",
   "execution_count": null,
   "metadata": {},
   "outputs": [],
   "source": [
    "combined.plot.scatter('ap_per', 'sat_score')"
   ]
  },
  {
   "cell_type": "markdown",
   "metadata": {},
   "source": [
    "### Findings\n",
    "\n",
    "Mine: some corr but not strong. There is a cluster of schools with ap_per > .4 with high SAT, but also a bunch with very high ap_per with SAT no greater than 1200\n",
    "\n",
    "Solution: It looks like there is a relationship between the percentage of students in a school who take the AP exam, and their average SAT scores. It's not an extremely strong correlation, though."
   ]
  },
  {
   "cell_type": "code",
   "execution_count": null,
   "metadata": {},
   "outputs": [],
   "source": []
  }
 ],
 "metadata": {
  "kernelspec": {
   "display_name": "Python 3",
   "language": "python",
   "name": "python3"
  },
  "language_info": {
   "codemirror_mode": {
    "name": "ipython",
    "version": 3
   },
   "file_extension": ".py",
   "mimetype": "text/x-python",
   "name": "python",
   "nbconvert_exporter": "python",
   "pygments_lexer": "ipython3",
   "version": "3.7.1"
  }
 },
 "nbformat": 4,
 "nbformat_minor": 1
}
